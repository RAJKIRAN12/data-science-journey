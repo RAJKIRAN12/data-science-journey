{
 "cells": [
  {
   "cell_type": "code",
   "execution_count": 3,
   "id": "25c5003c-2414-4f5e-b637-8ec090f4e6f9",
   "metadata": {},
   "outputs": [
    {
     "name": "stdout",
     "output_type": "stream",
     "text": [
      "Department\n",
      "Finance      52333.333333\n",
      "HR           46000.000000\n",
      "IT           67666.666667\n",
      "Marketing    52000.000000\n",
      "Name: Salary, dtype: float64\n"
     ]
    }
   ],
   "source": [
    "# Group by Department and calculate average salary\n",
    "import pandas as pd\n",
    "\n",
    "df = pd.read_csv(\"data.csv\")\n",
    "\n",
    "avg_salary_by_dept = df.groupby('Department')['Salary'].mean()\n",
    "print(avg_salary_by_dept)\n"
   ]
  },
  {
   "cell_type": "code",
   "execution_count": 4,
   "id": "b264d62f-69b8-4b09-bff3-4c60281a70fc",
   "metadata": {},
   "outputs": [
    {
     "name": "stdout",
     "output_type": "stream",
     "text": [
      "Gender\n",
      "Female    5\n",
      "Male      5\n",
      "Name: count, dtype: int64\n"
     ]
    }
   ],
   "source": [
    "gender_count = df['Gender'].value_counts()\n",
    "print(gender_count)\n"
   ]
  },
  {
   "cell_type": "code",
   "execution_count": 5,
   "id": "bd75424f-14f5-476f-85eb-a095147e2390",
   "metadata": {},
   "outputs": [
    {
     "name": "stdout",
     "output_type": "stream",
     "text": [
      "           mean    max\n",
      "Gender                \n",
      "Female  56200.0  68000\n",
      "Male    55000.0  75000\n"
     ]
    }
   ],
   "source": [
    "salary_stats_by_gender = df.groupby('Gender')['Salary'].agg(['mean', 'max'])\n",
    "print(salary_stats_by_gender)\n"
   ]
  },
  {
   "cell_type": "code",
   "execution_count": 6,
   "id": "8c964e7e-3311-44ca-9836-14db2fce47ea",
   "metadata": {},
   "outputs": [
    {
     "name": "stdout",
     "output_type": "stream",
     "text": [
      "Gender       Female     Male\n",
      "Department                  \n",
      "Finance     52500.0  52000.0\n",
      "HR          45000.0  47000.0\n",
      "IT          68000.0  67500.0\n",
      "Marketing   63000.0  41000.0\n"
     ]
    }
   ],
   "source": [
    "pivot = pd.pivot_table(df, values='Salary', index='Department', columns='Gender', aggfunc='mean')\n",
    "print(pivot)\n"
   ]
  },
  {
   "cell_type": "code",
   "execution_count": 7,
   "id": "2e0f5d7a-aad6-4d35-9039-7b306798d61d",
   "metadata": {},
   "outputs": [
    {
     "name": "stdout",
     "output_type": "stream",
     "text": [
      "Gender      Female   Male\n",
      "Department               \n",
      "Finance      56000  52000\n",
      "HR           45000  47000\n",
      "IT           68000  75000\n",
      "Marketing    63000  41000\n"
     ]
    }
   ],
   "source": [
    "pivot = pd.pivot_table(df, values='Salary', index='Department', columns='Gender', aggfunc='max')\n",
    "print(pivot)\n"
   ]
  },
  {
   "cell_type": "code",
   "execution_count": 8,
   "id": "4f604d56-db6a-48d9-aa65-b60e5be25f03",
   "metadata": {},
   "outputs": [
    {
     "name": "stdout",
     "output_type": "stream",
     "text": [
      "      Name  Age  Gender Department  Salary\n",
      "1      Bob   34    Male         IT   75000\n",
      "3    Diana   30  Female         IT   68000\n",
      "7   Hannah   32  Female  Marketing   63000\n",
      "8      Ian   24    Male         IT   60000\n",
      "5    Fiona   29  Female    Finance   56000\n",
      "2  Charlie   25    Male    Finance   52000\n",
      "9     Jane   27  Female    Finance   49000\n",
      "6   George   26    Male         HR   47000\n",
      "0    Alice   28  Female         HR   45000\n",
      "4    Ethan   22    Male  Marketing   41000\n"
     ]
    }
   ],
   "source": [
    "# Sort by Salary (descending)\n",
    "sorted_df = df.sort_values(by='Salary', ascending=False)\n",
    "print(sorted_df)\n"
   ]
  },
  {
   "cell_type": "code",
   "execution_count": 9,
   "id": "0f85df16-9c39-4562-9a43-6af34673b879",
   "metadata": {},
   "outputs": [
    {
     "name": "stdout",
     "output_type": "stream",
     "text": [
      "      Name  Age  Gender Department  Salary\n",
      "4    Ethan   22    Male  Marketing   41000\n",
      "0    Alice   28  Female         HR   45000\n",
      "6   George   26    Male         HR   47000\n",
      "9     Jane   27  Female    Finance   49000\n",
      "2  Charlie   25    Male    Finance   52000\n",
      "5    Fiona   29  Female    Finance   56000\n",
      "8      Ian   24    Male         IT   60000\n",
      "7   Hannah   32  Female  Marketing   63000\n",
      "3    Diana   30  Female         IT   68000\n",
      "1      Bob   34    Male         IT   75000\n"
     ]
    }
   ],
   "source": [
    "# Sort by Salary (descending)\n",
    "sorted_df = df.sort_values(by='Salary', ascending=True)\n",
    "print(sorted_df)\n"
   ]
  },
  {
   "cell_type": "code",
   "execution_count": 10,
   "id": "2752e58a-001b-4a7b-9565-c10c459d7790",
   "metadata": {},
   "outputs": [
    {
     "name": "stdout",
     "output_type": "stream",
     "text": [
      "      Name  Age  Gender Department  Salary\n",
      "1      Bob   34    Male         IT   75000\n",
      "2  Charlie   25    Male    Finance   52000\n",
      "3    Diana   30  Female         IT   68000\n",
      "5    Fiona   29  Female    Finance   56000\n",
      "7   Hannah   32  Female  Marketing   63000\n",
      "8      Ian   24    Male         IT   60000\n"
     ]
    }
   ],
   "source": [
    "# Filter: employees with salary above 50,000\n",
    "high_salary = df[df['Salary'] > 50000]\n",
    "print(high_salary)\n"
   ]
  },
  {
   "cell_type": "code",
   "execution_count": null,
   "id": "166b1ce2-bf90-47e8-9408-320eed3c4497",
   "metadata": {},
   "outputs": [],
   "source": []
  }
 ],
 "metadata": {
  "kernelspec": {
   "display_name": "Python 3 (ipykernel)",
   "language": "python",
   "name": "python3"
  },
  "language_info": {
   "codemirror_mode": {
    "name": "ipython",
    "version": 3
   },
   "file_extension": ".py",
   "mimetype": "text/x-python",
   "name": "python",
   "nbconvert_exporter": "python",
   "pygments_lexer": "ipython3",
   "version": "3.12.7"
  }
 },
 "nbformat": 4,
 "nbformat_minor": 5
}

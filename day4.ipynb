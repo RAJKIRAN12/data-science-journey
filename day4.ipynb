{
 "cells": [
  {
   "cell_type": "code",
   "execution_count": 4,
   "id": "b27b400b-bdd6-4a57-9750-001674422f02",
   "metadata": {},
   "outputs": [
    {
     "name": "stdout",
     "output_type": "stream",
     "text": [
      "Hello, my name is Rajkiran and I am 24 years old.\n"
     ]
    }
   ],
   "source": [
    "class Person:\n",
    "    def __init__(self, name, age):\n",
    "        self.name = name\n",
    "        self.age = age\n",
    "\n",
    "    def greet(self):\n",
    "        print(f\"Hello, my name is {self.name} and I am {self.age} years old.\")\n",
    "\n",
    "# Object creation\n",
    "p1 = Person(\"Rajkiran\", 24)\n",
    "p1.greet()\n"
   ]
  },
  {
   "cell_type": "code",
   "execution_count": 5,
   "id": "35957887-507d-43ba-bb48-906baa8a25b1",
   "metadata": {},
   "outputs": [
    {
     "name": "stdout",
     "output_type": "stream",
     "text": [
      "Hello, my name is Rajkiran and I am 24 years old.\n",
      "My student ID is KAN076BCT063\n"
     ]
    }
   ],
   "source": [
    "class Student(Person):\n",
    "    def __init__(self, name, age, student_id):\n",
    "        super().__init__(name, age)\n",
    "        self.student_id= student_id\n",
    "\n",
    "    def show_id(self):\n",
    "        print(f\"My student ID is {self.student_id}\")\n",
    "\n",
    "s1 = Student(\"Rajkiran\", 24, \"KAN076BCT063\")\n",
    "s1.greet()\n",
    "s1.show_id()"
   ]
  },
  {
   "cell_type": "code",
   "execution_count": 6,
   "id": "336c38aa-a081-41f4-ad61-ddb3bd1bae4c",
   "metadata": {},
   "outputs": [
    {
     "name": "stdout",
     "output_type": "stream",
     "text": [
      "Hi, I'm student Raj!\n"
     ]
    }
   ],
   "source": [
    "class Student(Person):\n",
    "    def greet(self):\n",
    "        print(f\"Hi, I'm student {self.name}!\")\n",
    "\n",
    "s1 = Student(\"Raj\", 22)\n",
    "s1.greet()"
   ]
  },
  {
   "cell_type": "code",
   "execution_count": 7,
   "id": "4a7fd230-3356-4aff-aeb2-6a4e81dc27e9",
   "metadata": {},
   "outputs": [],
   "source": [
    "with open(\"sample.txt\", \"w\") as file:\n",
    "    file.write(\"Hello, this is Day 4 of Python course.\")\n"
   ]
  },
  {
   "cell_type": "code",
   "execution_count": 8,
   "id": "22071402-4061-4a1a-b383-15ba13a9f146",
   "metadata": {},
   "outputs": [
    {
     "name": "stdout",
     "output_type": "stream",
     "text": [
      "Hello, this is Day 4 of Python course.\n"
     ]
    }
   ],
   "source": [
    "with open(\"sample.txt\", \"r\") as file:\n",
    "    content = file.read()\n",
    "    print(content)\n"
   ]
  },
  {
   "cell_type": "code",
   "execution_count": 9,
   "id": "818e71fd-831b-4b80-80ae-ff86b626f717",
   "metadata": {},
   "outputs": [],
   "source": [
    "with open(\"sample.txt\", \"a\") as file:\n",
    "    file.write(\"\\nAppending new line to the file.\")\n"
   ]
  },
  {
   "cell_type": "code",
   "execution_count": 10,
   "id": "490789f4-72e0-4f08-b8d1-bf37847c858d",
   "metadata": {},
   "outputs": [
    {
     "name": "stdout",
     "output_type": "stream",
     "text": [
      "5.0\n",
      "120\n"
     ]
    }
   ],
   "source": [
    "import math\n",
    "\n",
    "print(math.sqrt(25))\n",
    "print(math.factorial(5))"
   ]
  },
  {
   "cell_type": "code",
   "execution_count": 11,
   "id": "d571c322-533c-44b3-aaa3-8f87cb6da10a",
   "metadata": {},
   "outputs": [],
   "source": [
    "def greet(name): #mymodule.py\n",
    "    print(f\"Hello, {name}!\")\n",
    "\n",
    "def square(num):\n",
    "    return num ** 2"
   ]
  },
  {
   "cell_type": "code",
   "execution_count": 12,
   "id": "9cfc5fd0-6df8-44f3-b29c-18ad8b91dab0",
   "metadata": {},
   "outputs": [
    {
     "ename": "ModuleNotFoundError",
     "evalue": "No module named 'mymodule'",
     "output_type": "error",
     "traceback": [
      "\u001b[1;31m---------------------------------------------------------------------------\u001b[0m",
      "\u001b[1;31mModuleNotFoundError\u001b[0m                       Traceback (most recent call last)",
      "Cell \u001b[1;32mIn[12], line 1\u001b[0m\n\u001b[1;32m----> 1\u001b[0m \u001b[38;5;28;01mimport\u001b[39;00m \u001b[38;5;21;01mmymodule\u001b[39;00m\n\u001b[0;32m      3\u001b[0m mymodule\u001b[38;5;241m.\u001b[39mgreet(\u001b[38;5;124m\"\u001b[39m\u001b[38;5;124mRaj\u001b[39m\u001b[38;5;124m\"\u001b[39m)\n\u001b[0;32m      4\u001b[0m \u001b[38;5;28mprint\u001b[39m(mymodule\u001b[38;5;241m.\u001b[39msquare(\u001b[38;5;241m5\u001b[39m))\n",
      "\u001b[1;31mModuleNotFoundError\u001b[0m: No module named 'mymodule'"
     ]
    }
   ],
   "source": [
    "import mymodule #import\n",
    "\n",
    "mymodule.greet(\"Raj\")\n",
    "print(mymodule.square(5))"
   ]
  },
  {
   "cell_type": "code",
   "execution_count": null,
   "id": "91b5f508-8cca-4380-ae4f-fa0d92356336",
   "metadata": {},
   "outputs": [],
   "source": []
  }
 ],
 "metadata": {
  "kernelspec": {
   "display_name": "Python 3 (ipykernel)",
   "language": "python",
   "name": "python3"
  },
  "language_info": {
   "codemirror_mode": {
    "name": "ipython",
    "version": 3
   },
   "file_extension": ".py",
   "mimetype": "text/x-python",
   "name": "python",
   "nbconvert_exporter": "python",
   "pygments_lexer": "ipython3",
   "version": "3.12.7"
  }
 },
 "nbformat": 4,
 "nbformat_minor": 5
}

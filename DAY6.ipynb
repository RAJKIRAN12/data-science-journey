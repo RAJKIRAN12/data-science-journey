{
 "cells": [
  {
   "cell_type": "code",
   "execution_count": 1,
   "id": "b844a62a-6919-4338-a652-8a01c80e2e7b",
   "metadata": {},
   "outputs": [
    {
     "name": "stdin",
     "output_type": "stream",
     "text": [
      "Enter a number:  5\n"
     ]
    },
    {
     "name": "stdout",
     "output_type": "stream",
     "text": [
      "2.0\n",
      "Execution complete.\n"
     ]
    }
   ],
   "source": [
    "try:\n",
    "    num = int(input(\"Enter a number: \"))\n",
    "    result = 10 / num\n",
    "    print(result)\n",
    "except ZeroDivisionError:\n",
    "    print(\"You can't divide by zero!\")\n",
    "except ValueError:\n",
    "    print(\"Please enter a valid number.\")\n",
    "finally:\n",
    "    print(\"Execution complete.\")\n"
   ]
  },
  {
   "cell_type": "code",
   "execution_count": 2,
   "id": "40fe5243-1778-4c5c-8160-77813bbdd8dc",
   "metadata": {},
   "outputs": [
    {
     "name": "stdout",
     "output_type": "stream",
     "text": [
      "Original Data:\n",
      "       Name   Age   Salary\n",
      "0    Alice  25.0  50000.0\n",
      "1      Bob   NaN  60000.0\n",
      "2  Charlie  30.0      NaN\n",
      "3      NaN  22.0  48000.0\n",
      "4    Ethan  28.0  52000.0\n",
      "\n",
      "After Dropping NaNs:\n",
      "     Name   Age   Salary\n",
      "0  Alice  25.0  50000.0\n",
      "4  Ethan  28.0  52000.0\n",
      "\n",
      "After Filling NaNs:\n",
      "       Name    Age   Salary\n",
      "0    Alice  25.00  50000.0\n",
      "1      Bob  26.25  60000.0\n",
      "2  Charlie  30.00      0.0\n",
      "3  Unknown  22.00  48000.0\n",
      "4    Ethan  28.00  52000.0\n"
     ]
    }
   ],
   "source": [
    "import pandas as pd\n",
    "import numpy as np\n",
    "\n",
    "# Sample data\n",
    "data = {\n",
    "    'Name': ['Alice', 'Bob', 'Charlie', np.nan, 'Ethan'],\n",
    "    'Age': [25, np.nan, 30, 22, 28],\n",
    "    'Salary': [50000, 60000, np.nan, 48000, 52000]\n",
    "}\n",
    "\n",
    "df = pd.DataFrame(data)\n",
    "print(\"Original Data:\\n\", df)\n",
    "\n",
    "# Drop rows with any missing values\n",
    "df_dropna = df.dropna()\n",
    "print(\"\\nAfter Dropping NaNs:\\n\", df_dropna)\n",
    "\n",
    "# Fill missing values with a specific value\n",
    "df_fillna = df.fillna({'Name': 'Unknown', 'Age': df['Age'].mean(), 'Salary': 0})\n",
    "print(\"\\nAfter Filling NaNs:\\n\", df_fillna)\n"
   ]
  },
  {
   "cell_type": "code",
   "execution_count": 3,
   "id": "baa72e62-1e0e-4e61-8e3a-b02ff374736d",
   "metadata": {},
   "outputs": [
    {
     "name": "stdout",
     "output_type": "stream",
     "text": [
      "\n",
      "After Changing Data Type of Age:\n",
      " Name       object\n",
      "Age         int32\n",
      "Salary    float64\n",
      "dtype: object\n"
     ]
    }
   ],
   "source": [
    "# Convert Age from float to integer\n",
    "df_fillna['Age'] = df_fillna['Age'].astype(int)\n",
    "print(\"\\nAfter Changing Data Type of Age:\\n\", df_fillna.dtypes)\n"
   ]
  },
  {
   "cell_type": "code",
   "execution_count": 4,
   "id": "ff7d9fa6-e774-485b-a878-2f2f43cb59ff",
   "metadata": {},
   "outputs": [
    {
     "name": "stdout",
     "output_type": "stream",
     "text": [
      "Original Data:\n",
      "       Name   Age   Salary\n",
      "0    Alice  25.0  50000.0\n",
      "1      Bob   NaN  60000.0\n",
      "2  Charlie  30.0      NaN\n",
      "3      NaN  22.0  48000.0\n",
      "4    Ethan  28.0  52000.0\n"
     ]
    }
   ],
   "source": [
    "print(\"Original Data:\\n\", df)"
   ]
  },
  {
   "cell_type": "code",
   "execution_count": 5,
   "id": "940f256c-c439-43c1-acb3-8b2803bdafff",
   "metadata": {},
   "outputs": [
    {
     "name": "stdout",
     "output_type": "stream",
     "text": [
      "\n",
      "Before Removing Duplicates:\n",
      "     Name  Age\n",
      "0  Alice   25\n",
      "1    Bob   30\n",
      "2  Alice   25\n",
      "\n",
      "After Removing Duplicates:\n",
      "     Name  Age\n",
      "0  Alice   25\n",
      "1    Bob   30\n"
     ]
    }
   ],
   "source": [
    "# Create sample data with duplicates\n",
    "df_dup = pd.DataFrame({\n",
    "    'Name': ['Alice', 'Bob', 'Alice'],\n",
    "    'Age': [25, 30, 25]\n",
    "})\n",
    "\n",
    "print(\"\\nBefore Removing Duplicates:\\n\", df_dup)\n",
    "\n",
    "# Remove duplicates\n",
    "df_no_dup = df_dup.drop_duplicates()\n",
    "print(\"\\nAfter Removing Duplicates:\\n\", df_no_dup)\n"
   ]
  },
  {
   "cell_type": "code",
   "execution_count": null,
   "id": "9ef640ee-941b-4eb7-bd77-ba0426194482",
   "metadata": {},
   "outputs": [],
   "source": []
  }
 ],
 "metadata": {
  "kernelspec": {
   "display_name": "Python 3 (ipykernel)",
   "language": "python",
   "name": "python3"
  },
  "language_info": {
   "codemirror_mode": {
    "name": "ipython",
    "version": 3
   },
   "file_extension": ".py",
   "mimetype": "text/x-python",
   "name": "python",
   "nbconvert_exporter": "python",
   "pygments_lexer": "ipython3",
   "version": "3.12.7"
  }
 },
 "nbformat": 4,
 "nbformat_minor": 5
}

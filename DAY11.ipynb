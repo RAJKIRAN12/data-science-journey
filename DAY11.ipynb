{
 "cells": [
  {
   "cell_type": "code",
   "execution_count": 3,
   "id": "9675707b-0d28-4ddb-b499-3921559cc3e1",
   "metadata": {},
   "outputs": [
    {
     "name": "stdout",
     "output_type": "stream",
     "text": [
      "      Name  Age  Gender Department  Salary Manager\n",
      "0    Alice   28  Female         HR   45000    John\n",
      "1      Bob   34    Male         IT   75000    Sara\n",
      "2  Charlie   25    Male    Finance   52000    Mike\n",
      "3    Diana   30  Female         IT   68000    Sara\n",
      "4    Ethan   22    Male  Marketing   41000    Emma\n",
      "5    Fiona   29  Female    Finance   56000    Mike\n",
      "6   George   26    Male         HR   47000    John\n",
      "7   Hannah   32  Female  Marketing   63000    Emma\n",
      "8      Ian   24    Male         IT   60000    Sara\n",
      "9     Jane   27  Female    Finance   49000    Mike\n"
     ]
    }
   ],
   "source": [
    "# Create two DataFrames\n",
    "import pandas as pd \n",
    "\n",
    "df= pd.read_csv(\"data.csv\")\n",
    "\n",
    "df_dept = pd.DataFrame({\n",
    "    'Department': ['HR', 'IT', 'Finance', 'Marketing'],\n",
    "    'Manager': ['John', 'Sara', 'Mike', 'Emma']\n",
    "})\n",
    "\n",
    "# Merge with original df\n",
    "merged_df = pd.merge(df, df_dept, on='Department', how='left')\n",
    "print(merged_df)\n"
   ]
  },
  {
   "cell_type": "code",
   "execution_count": 4,
   "id": "e9bc64c4-c899-415d-bf64-0b0d8a5d1615",
   "metadata": {},
   "outputs": [
    {
     "name": "stdout",
     "output_type": "stream",
     "text": [
      "      Name  Age  Gender Department  Salary\n",
      "0    Alice   28  Female         HR   45000\n",
      "1      Bob   34    Male         IT   75000\n",
      "2  Charlie   25    Male    Finance   52000\n",
      "3    Diana   30  Female         IT   68000\n",
      "4    Ethan   22    Male  Marketing   41000\n",
      "5    Fiona   29  Female    Finance   56000\n",
      "6   George   26    Male         HR   47000\n",
      "7   Hannah   32  Female  Marketing   63000\n",
      "8      Ian   24    Male         IT   60000\n",
      "9     Jane   27  Female    Finance   49000\n"
     ]
    }
   ],
   "source": [
    "# Split df into two parts and then combine again\n",
    "df1 = df.iloc[:3]\n",
    "df2 = df.iloc[3:]\n",
    "combined_df = pd.concat([df1, df2])\n",
    "print(combined_df)\n"
   ]
  },
  {
   "cell_type": "code",
   "execution_count": null,
   "id": "361b8248-e351-43db-90d1-7f8760b0cdb8",
   "metadata": {},
   "outputs": [],
   "source": []
  }
 ],
 "metadata": {
  "kernelspec": {
   "display_name": "Python 3 (ipykernel)",
   "language": "python",
   "name": "python3"
  },
  "language_info": {
   "codemirror_mode": {
    "name": "ipython",
    "version": 3
   },
   "file_extension": ".py",
   "mimetype": "text/x-python",
   "name": "python",
   "nbconvert_exporter": "python",
   "pygments_lexer": "ipython3",
   "version": "3.12.7"
  }
 },
 "nbformat": 4,
 "nbformat_minor": 5
}

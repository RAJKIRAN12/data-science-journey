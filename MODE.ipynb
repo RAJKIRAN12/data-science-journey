{
 "cells": [
  {
   "cell_type": "code",
   "execution_count": 3,
   "id": "24cf15ff-0688-4e24-990a-0944b2570ef1",
   "metadata": {},
   "outputs": [],
   "source": [
    "import pandas as pd\n",
    "import matplotlib.pyplot as plt\n",
    "import seaborn as sns\n",
    "import numpy as np"
   ]
  },
  {
   "cell_type": "code",
   "execution_count": 4,
   "id": "f55afeaa-ccde-4aac-82ef-ab1db4c4655d",
   "metadata": {},
   "outputs": [],
   "source": [
    "dataset = pd.read_csv(\"C:\\\\Users\\\\rajkiran sapkota\\\\Downloads\\\\healthcare.csv\")"
   ]
  },
  {
   "cell_type": "code",
   "execution_count": 5,
   "id": "024cc462-2853-4b74-a8fa-e3c29c5c1cd5",
   "metadata": {},
   "outputs": [
    {
     "data": {
      "text/html": [
       "<div>\n",
       "<style scoped>\n",
       "    .dataframe tbody tr th:only-of-type {\n",
       "        vertical-align: middle;\n",
       "    }\n",
       "\n",
       "    .dataframe tbody tr th {\n",
       "        vertical-align: top;\n",
       "    }\n",
       "\n",
       "    .dataframe thead th {\n",
       "        text-align: right;\n",
       "    }\n",
       "</style>\n",
       "<table border=\"1\" class=\"dataframe\">\n",
       "  <thead>\n",
       "    <tr style=\"text-align: right;\">\n",
       "      <th></th>\n",
       "      <th>PatientID</th>\n",
       "      <th>Age</th>\n",
       "      <th>Gender</th>\n",
       "      <th>Weight_kg</th>\n",
       "      <th>Height_cm</th>\n",
       "      <th>Blood_Pressure</th>\n",
       "      <th>Cholesterol_Level</th>\n",
       "      <th>Glucose_mg_dL</th>\n",
       "      <th>Diagnosis</th>\n",
       "      <th>Medication</th>\n",
       "      <th>Hospital_Visits_Past_Year</th>\n",
       "      <th>Smoker_Status</th>\n",
       "      <th>Exercise_Frequency</th>\n",
       "    </tr>\n",
       "  </thead>\n",
       "  <tbody>\n",
       "    <tr>\n",
       "      <th>0</th>\n",
       "      <td>1001</td>\n",
       "      <td>69</td>\n",
       "      <td>Female</td>\n",
       "      <td>75.1</td>\n",
       "      <td>171.6</td>\n",
       "      <td>119/76</td>\n",
       "      <td>High</td>\n",
       "      <td>147.5</td>\n",
       "      <td>Healthy</td>\n",
       "      <td>MedC</td>\n",
       "      <td>3</td>\n",
       "      <td>Former Smoker</td>\n",
       "      <td>Daily</td>\n",
       "    </tr>\n",
       "    <tr>\n",
       "      <th>1</th>\n",
       "      <td>1002</td>\n",
       "      <td>32</td>\n",
       "      <td>Other</td>\n",
       "      <td>99.6</td>\n",
       "      <td>150.6</td>\n",
       "      <td>151/79</td>\n",
       "      <td>High</td>\n",
       "      <td>93.8</td>\n",
       "      <td>Obesity</td>\n",
       "      <td>MedD</td>\n",
       "      <td>9</td>\n",
       "      <td>Smoker</td>\n",
       "      <td>3-5 times/week</td>\n",
       "    </tr>\n",
       "    <tr>\n",
       "      <th>2</th>\n",
       "      <td>1003</td>\n",
       "      <td>89</td>\n",
       "      <td>Other</td>\n",
       "      <td>99.5</td>\n",
       "      <td>153.2</td>\n",
       "      <td>178/81</td>\n",
       "      <td>Normal</td>\n",
       "      <td>87.5</td>\n",
       "      <td>Hypertension</td>\n",
       "      <td>MedA</td>\n",
       "      <td>1</td>\n",
       "      <td>Non-Smoker</td>\n",
       "      <td>3-5 times/week</td>\n",
       "    </tr>\n",
       "    <tr>\n",
       "      <th>3</th>\n",
       "      <td>1004</td>\n",
       "      <td>78</td>\n",
       "      <td>Male</td>\n",
       "      <td>40.9</td>\n",
       "      <td>169.9</td>\n",
       "      <td>102/118</td>\n",
       "      <td>Normal</td>\n",
       "      <td>56.2</td>\n",
       "      <td>Hypertension</td>\n",
       "      <td>MedB</td>\n",
       "      <td>2</td>\n",
       "      <td>Former Smoker</td>\n",
       "      <td>Daily</td>\n",
       "    </tr>\n",
       "    <tr>\n",
       "      <th>4</th>\n",
       "      <td>1005</td>\n",
       "      <td>38</td>\n",
       "      <td>Other</td>\n",
       "      <td>58.6</td>\n",
       "      <td>163.3</td>\n",
       "      <td>108/108</td>\n",
       "      <td>Normal</td>\n",
       "      <td>117.0</td>\n",
       "      <td>Hypertension</td>\n",
       "      <td>MedC</td>\n",
       "      <td>6</td>\n",
       "      <td>Smoker</td>\n",
       "      <td>NaN</td>\n",
       "    </tr>\n",
       "  </tbody>\n",
       "</table>\n",
       "</div>"
      ],
      "text/plain": [
       "   PatientID  Age  Gender  Weight_kg  Height_cm Blood_Pressure  \\\n",
       "0       1001   69  Female       75.1      171.6         119/76   \n",
       "1       1002   32   Other       99.6      150.6         151/79   \n",
       "2       1003   89   Other       99.5      153.2         178/81   \n",
       "3       1004   78    Male       40.9      169.9        102/118   \n",
       "4       1005   38   Other       58.6      163.3        108/108   \n",
       "\n",
       "  Cholesterol_Level  Glucose_mg_dL     Diagnosis Medication  \\\n",
       "0              High          147.5       Healthy       MedC   \n",
       "1              High           93.8       Obesity       MedD   \n",
       "2            Normal           87.5  Hypertension       MedA   \n",
       "3            Normal           56.2  Hypertension       MedB   \n",
       "4            Normal          117.0  Hypertension       MedC   \n",
       "\n",
       "   Hospital_Visits_Past_Year  Smoker_Status Exercise_Frequency  \n",
       "0                          3  Former Smoker              Daily  \n",
       "1                          9         Smoker     3-5 times/week  \n",
       "2                          1     Non-Smoker     3-5 times/week  \n",
       "3                          2  Former Smoker              Daily  \n",
       "4                          6         Smoker                NaN  "
      ]
     },
     "execution_count": 5,
     "metadata": {},
     "output_type": "execute_result"
    }
   ],
   "source": [
    "dataset.head(5)"
   ]
  },
  {
   "cell_type": "code",
   "execution_count": 8,
   "id": "931d4315-b3e6-4c37-a6a2-528df1d6ae9f",
   "metadata": {},
   "outputs": [],
   "source": [
    "mo = dataset[\"Age\"].mode()[0]\n",
    "md = np.median(dataset[\"Age\"])\n",
    "mn = np.mean(dataset[\"Age\"])"
   ]
  },
  {
   "cell_type": "code",
   "execution_count": 10,
   "id": "43aa555e-14eb-480a-82cc-f2e67458a256",
   "metadata": {},
   "outputs": [
    {
     "data": {
      "image/png": "[encoded data removed]",
      "text/plain": [
       "<Figure size 640x480 with 1 Axes>"
      ]
     },
     "metadata": {},
     "output_type": "display_data"
    }
   ],
   "source": [
    "sns.histplot(x=\"Age\", data=dataset,bins=[i for i in range(0,81,10)])\n",
    "plt.plot([mn for i in range(0,50)],[i for i in range(0,50)],c=\"Black\",label=\"Mean\")\n",
    "plt.plot([md for i in range(0,50)],[i for i in range(0,50)],c=\"red\",label=\"Median\")\n",
    "plt.plot([mo for i in range(0,50)], [i for i in range(0,50)],c=\"orange\",label=\"Mode\")\n",
    "plt.legend()\n",
    "plt.show()"
   ]
  },
  {
   "cell_type": "code",
   "execution_count": null,
   "id": "49917c99-63e8-4668-b1c3-6a89631dc25f",
   "metadata": {},
   "outputs": [],
   "source": []
  }
 ],
 "metadata": {
  "kernelspec": {
   "display_name": "Python 3 (ipykernel)",
   "language": "python",
   "name": "python3"
  },
  "language_info": {
   "codemirror_mode": {
    "name": "ipython",
    "version": 3
   },
   "file_extension": ".py",
   "mimetype": "text/x-python",
   "name": "python",
   "nbconvert_exporter": "python",
   "pygments_lexer": "ipython3",
   "version": "3.12.7"
  }
 },
 "nbformat": 4,
 "nbformat_minor": 5
}

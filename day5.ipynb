{
 "cells": [
  {
   "cell_type": "code",
   "execution_count": 3,
   "id": "f866402a-58b3-4d91-83d3-c2c78bc6b3c7",
   "metadata": {},
   "outputs": [
    {
     "name": "stdin",
     "output_type": "stream",
     "text": [
      "Enter a number:  -\n"
     ]
    },
    {
     "name": "stdout",
     "output_type": "stream",
     "text": [
      "Please enter a valid number.\n",
      "Execution complete.\n"
     ]
    }
   ],
   "source": [
    "try:     #try-except\n",
    "    num = int(input(\"Enter a number: \"))\n",
    "    result = 10 / num\n",
    "    print(result)\n",
    "except ZeroDivisionError:\n",
    "    print(\"You can't divide by zero!\")\n",
    "except ValueError:\n",
    "    print(\"Please enter a valid number.\")\n",
    "finally:\n",
    "    print(\"Execution complete.\")\n"
   ]
  },
  {
   "cell_type": "code",
   "execution_count": 5,
   "id": "f1aa1e46-ea89-468a-b5f5-bea5b3b574e5",
   "metadata": {},
   "outputs": [
    {
     "data": {
      "text/plain": [
       "True"
      ]
     },
     "execution_count": 5,
     "metadata": {},
     "output_type": "execute_result"
    }
   ],
   "source": [
    "def check_age(age):  #raising-custom-exceptions\n",
    "    if age < 18:\n",
    "        raise ValueError(\"You must be at least 18 years old.\")\n",
    "    return True\n",
    "\n",
    "check_age(18)"
   ]
  },
  {
   "cell_type": "code",
   "execution_count": 6,
   "id": "d235e45b-480e-43bd-9423-daec56ce396c",
   "metadata": {},
   "outputs": [
    {
     "name": "stdout",
     "output_type": "stream",
     "text": [
      "Requirement already satisfied: numpy in c:\\anaconda\\lib\\site-packages (1.26.4)\n",
      "Note: you may need to restart the kernel to use updated packages.\n"
     ]
    }
   ],
   "source": [
    "pip install numpy"
   ]
  },
  {
   "cell_type": "code",
   "execution_count": 7,
   "id": "d964a924-c8f9-4568-a1c3-c67b99f65602",
   "metadata": {},
   "outputs": [
    {
     "name": "stdout",
     "output_type": "stream",
     "text": [
      "[2 4 6]\n",
      "2.0\n",
      "[1.         1.41421356 1.73205081]\n"
     ]
    }
   ],
   "source": [
    "import numpy as np\n",
    "\n",
    "a = np.array([1, 2, 3])\n",
    "print(a * 2)\n",
    "print(np.mean(a))\n",
    "print(np.sqrt(a))"
   ]
  },
  {
   "cell_type": "code",
   "execution_count": 8,
   "id": "a248402e-4347-45e2-a4fe-79d2728e911d",
   "metadata": {},
   "outputs": [
    {
     "name": "stdout",
     "output_type": "stream",
     "text": [
      "(2, 2)\n",
      "[4 6]\n"
     ]
    }
   ],
   "source": [
    "b = np.array([[1, 2], [3, 4]])\n",
    "print(b.shape)\n",
    "print(np.sum(b, axis=0))  # Sum by column"
   ]
  },
  {
   "cell_type": "code",
   "execution_count": 11,
   "id": "c2ccf469-0c36-4c07-b00f-87e0fd7230ac",
   "metadata": {},
   "outputs": [
    {
     "name": "stdout",
     "output_type": "stream",
     "text": [
      "      Name  Age  Gender Department  Salary\n",
      "0    Alice   28  Female         HR   45000\n",
      "1      Bob   34    Male         IT   75000\n",
      "2  Charlie   25    Male    Finance   52000\n",
      "3    Diana   30  Female         IT   68000\n",
      "4    Ethan   22    Male  Marketing   41000\n",
      "             Age        Salary\n",
      "count  10.000000     10.000000\n",
      "mean   27.700000  55600.000000\n",
      "std     3.683296  10854.594521\n",
      "min    22.000000  41000.000000\n",
      "25%    25.250000  47500.000000\n",
      "50%    27.500000  54000.000000\n",
      "75%    29.750000  62250.000000\n",
      "max    34.000000  75000.000000\n"
     ]
    }
   ],
   "source": [
    "import pandas as pd\n",
    "\n",
    "df = pd.read_csv(\"data.csv\")  # file\n",
    "print(df.head())\n",
    "print(df.describe())\n"
   ]
  },
  {
   "cell_type": "code",
   "execution_count": 12,
   "id": "fdf4ea8a-cac3-44a7-ad70-caf6afef2ce6",
   "metadata": {},
   "outputs": [
    {
     "name": "stdout",
     "output_type": "stream",
     "text": [
      "27.7\n",
      "     Name  Age  Gender Department  Salary\n",
      "0   Alice   28  Female         HR   45000\n",
      "1     Bob   34    Male         IT   75000\n",
      "3   Diana   30  Female         IT   68000\n",
      "5   Fiona   29  Female    Finance   56000\n",
      "6  George   26    Male         HR   47000\n",
      "7  Hannah   32  Female  Marketing   63000\n",
      "9    Jane   27  Female    Finance   49000\n"
     ]
    }
   ],
   "source": [
    "print(df['Age'].mean())       # Mean age\n",
    "print(df[df['Age'] > 25])     # Filter rows\n",
    "df['New_Col'] = df['Age'] * 2 # Create new column"
   ]
  },
  {
   "cell_type": "code",
   "execution_count": null,
   "id": "e3e8e077-7e7b-4609-a9a3-650535a08980",
   "metadata": {},
   "outputs": [],
   "source": []
  }
 ],
 "metadata": {
  "kernelspec": {
   "display_name": "Python 3 (ipykernel)",
   "language": "python",
   "name": "python3"
  },
  "language_info": {
   "codemirror_mode": {
    "name": "ipython",
    "version": 3
   },
   "file_extension": ".py",
   "mimetype": "text/x-python",
   "name": "python",
   "nbconvert_exporter": "python",
   "pygments_lexer": "ipython3",
   "version": "3.12.7"
  }
 },
 "nbformat": 4,
 "nbformat_minor": 5
}

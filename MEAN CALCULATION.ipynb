{
 "cells": [
  {
   "cell_type": "code",
   "execution_count": 31,
   "id": "5fbc1faa-80ab-4d4c-a077-3bb829db4139",
   "metadata": {},
   "outputs": [],
   "source": [
    "import numpy as np\n",
    "import pandas as pd\n",
    "import matplotlib.pyplot as plt\n",
    "import seaborn as sns"
   ]
  },
  {
   "cell_type": "code",
   "execution_count": 16,
   "id": "f3894dda-f9d1-41fb-89b9-c4c58edc1f35",
   "metadata": {},
   "outputs": [],
   "source": [
    "dataset = pd.read_csv(\"C:\\\\Users\\\\rajkiran sapkota\\\\Downloads\\\\healthcare.csv\")\n"
   ]
  },
  {
   "cell_type": "code",
   "execution_count": 17,
   "id": "c48528df-597e-46ea-8a68-4c75222a9e28",
   "metadata": {},
   "outputs": [
    {
     "data": {
      "text/html": [
       "<div>\n",
       "<style scoped>\n",
       "    .dataframe tbody tr th:only-of-type {\n",
       "        vertical-align: middle;\n",
       "    }\n",
       "\n",
       "    .dataframe tbody tr th {\n",
       "        vertical-align: top;\n",
       "    }\n",
       "\n",
       "    .dataframe thead th {\n",
       "        text-align: right;\n",
       "    }\n",
       "</style>\n",
       "<table border=\"1\" class=\"dataframe\">\n",
       "  <thead>\n",
       "    <tr style=\"text-align: right;\">\n",
       "      <th></th>\n",
       "      <th>PatientID</th>\n",
       "      <th>Age</th>\n",
       "      <th>Gender</th>\n",
       "      <th>Weight_kg</th>\n",
       "      <th>Height_cm</th>\n",
       "      <th>Blood_Pressure</th>\n",
       "      <th>Cholesterol_Level</th>\n",
       "      <th>Glucose_mg_dL</th>\n",
       "      <th>Diagnosis</th>\n",
       "      <th>Medication</th>\n",
       "      <th>Hospital_Visits_Past_Year</th>\n",
       "      <th>Smoker_Status</th>\n",
       "      <th>Exercise_Frequency</th>\n",
       "    </tr>\n",
       "  </thead>\n",
       "  <tbody>\n",
       "    <tr>\n",
       "      <th>0</th>\n",
       "      <td>1001</td>\n",
       "      <td>69</td>\n",
       "      <td>Female</td>\n",
       "      <td>75.1</td>\n",
       "      <td>171.6</td>\n",
       "      <td>119/76</td>\n",
       "      <td>High</td>\n",
       "      <td>147.5</td>\n",
       "      <td>Healthy</td>\n",
       "      <td>MedC</td>\n",
       "      <td>3</td>\n",
       "      <td>Former Smoker</td>\n",
       "      <td>Daily</td>\n",
       "    </tr>\n",
       "    <tr>\n",
       "      <th>1</th>\n",
       "      <td>1002</td>\n",
       "      <td>32</td>\n",
       "      <td>Other</td>\n",
       "      <td>99.6</td>\n",
       "      <td>150.6</td>\n",
       "      <td>151/79</td>\n",
       "      <td>High</td>\n",
       "      <td>93.8</td>\n",
       "      <td>Obesity</td>\n",
       "      <td>MedD</td>\n",
       "      <td>9</td>\n",
       "      <td>Smoker</td>\n",
       "      <td>3-5 times/week</td>\n",
       "    </tr>\n",
       "    <tr>\n",
       "      <th>2</th>\n",
       "      <td>1003</td>\n",
       "      <td>89</td>\n",
       "      <td>Other</td>\n",
       "      <td>99.5</td>\n",
       "      <td>153.2</td>\n",
       "      <td>178/81</td>\n",
       "      <td>Normal</td>\n",
       "      <td>87.5</td>\n",
       "      <td>Hypertension</td>\n",
       "      <td>MedA</td>\n",
       "      <td>1</td>\n",
       "      <td>Non-Smoker</td>\n",
       "      <td>3-5 times/week</td>\n",
       "    </tr>\n",
       "  </tbody>\n",
       "</table>\n",
       "</div>"
      ],
      "text/plain": [
       "   PatientID  Age  Gender  Weight_kg  Height_cm Blood_Pressure  \\\n",
       "0       1001   69  Female       75.1      171.6         119/76   \n",
       "1       1002   32   Other       99.6      150.6         151/79   \n",
       "2       1003   89   Other       99.5      153.2         178/81   \n",
       "\n",
       "  Cholesterol_Level  Glucose_mg_dL     Diagnosis Medication  \\\n",
       "0              High          147.5       Healthy       MedC   \n",
       "1              High           93.8       Obesity       MedD   \n",
       "2            Normal           87.5  Hypertension       MedA   \n",
       "\n",
       "   Hospital_Visits_Past_Year  Smoker_Status Exercise_Frequency  \n",
       "0                          3  Former Smoker              Daily  \n",
       "1                          9         Smoker     3-5 times/week  \n",
       "2                          1     Non-Smoker     3-5 times/week  "
      ]
     },
     "execution_count": 17,
     "metadata": {},
     "output_type": "execute_result"
    }
   ],
   "source": [
    "dataset.head(3)"
   ]
  },
  {
   "cell_type": "code",
   "execution_count": 20,
   "id": "487796f7-6537-491a-8458-cb493835bd7a",
   "metadata": {},
   "outputs": [
    {
     "data": {
      "text/plain": [
       "52.87"
      ]
     },
     "execution_count": 20,
     "metadata": {},
     "output_type": "execute_result"
    }
   ],
   "source": [
    "dataset[\"Age\"].mean()"
   ]
  },
  {
   "cell_type": "code",
   "execution_count": 21,
   "id": "e3a5ca1b-b48c-43bf-865f-1e19f4c4b480",
   "metadata": {},
   "outputs": [
    {
     "data": {
      "text/plain": [
       "52.87"
      ]
     },
     "execution_count": 21,
     "metadata": {},
     "output_type": "execute_result"
    }
   ],
   "source": [
    "np.mean(dataset[\"Age\"])"
   ]
  },
  {
   "cell_type": "code",
   "execution_count": 26,
   "id": "90041b57-fb15-4c52-9ed1-7b567d3b0ac7",
   "metadata": {},
   "outputs": [
    {
     "data": {
      "text/plain": [
       "<Axes: xlabel='Age', ylabel='Count'>"
      ]
     },
     "execution_count": 26,
     "metadata": {},
     "output_type": "execute_result"
    },
    {
     "data": {
      "image/png": "[encoded data removed]",
      "text/plain": [
       "<Figure size 640x480 with 1 Axes>"
      ]
     },
     "metadata": {},
     "output_type": "display_data"
    }
   ],
   "source": [
    "sns.histplot(x=\"Age\", data=dataset, bins=[i for i in range(0,81,10)])"
   ]
  },
  {
   "cell_type": "code",
   "execution_count": 28,
   "id": "a62d9e8f-bf0d-4bd9-8ca1-81be9dda0c76",
   "metadata": {},
   "outputs": [],
   "source": [
    "mn = np.mean(dataset[\"Age\"])"
   ]
  },
  {
   "cell_type": "code",
   "execution_count": 34,
   "id": "6630df1a-be74-463c-93a6-3c7380db5b63",
   "metadata": {},
   "outputs": [
    {
     "data": {
      "image/png": "[encoded data removed]",
      "text/plain": [
       "<Figure size 640x480 with 1 Axes>"
      ]
     },
     "metadata": {},
     "output_type": "display_data"
    }
   ],
   "source": [
    "sns.histplot(x=\"Age\", data=dataset, bins=[i for i in range(0,81,10)])\n",
    "plt.plot([mn for i in range(0,50)],[i for i in range(0,50)])\n",
    "plt.show()"
   ]
  },
  {
   "cell_type": "code",
   "execution_count": 35,
   "id": "debed378-a813-40fe-a2ca-ca12149028e3",
   "metadata": {},
   "outputs": [
    {
     "data": {
      "image/png": "[encoded data removed]",
      "text/plain": [
       "<Figure size 640x480 with 1 Axes>"
      ]
     },
     "metadata": {},
     "output_type": "display_data"
    }
   ],
   "source": [
    "import seaborn as sns\n",
    "import matplotlib.pyplot as plt\n",
    "import pandas as pd\n",
    "\n",
    "# Histogram of Age\n",
    "sns.histplot(x=\"Age\", data=dataset, bins=[i for i in range(0, 81, 10)])\n",
    "\n",
    "# Let's say you calculated the mean age and want to plot a line\n",
    "mn = dataset[\"Age\"].mean()\n",
    "\n",
    "# Add a vertical line for the mean\n",
    "plt.axvline(mn, color='red', linestyle='--', label=f'Mean Age: {mn:.2f}')\n",
    "\n",
    "# Show legend and plot\n",
    "plt.legend()\n",
    "plt.title(\"Age Distribution with Mean\")\n",
    "plt.show()\n"
   ]
  },
  {
   "cell_type": "code",
   "execution_count": null,
   "id": "36a317fc-8058-48db-a2a4-a15d9206ccd8",
   "metadata": {},
   "outputs": [],
   "source": []
  }
 ],
 "metadata": {
  "kernelspec": {
   "display_name": "Python 3 (ipykernel)",
   "language": "python",
   "name": "python3"
  },
  "language_info": {
   "codemirror_mode": {
    "name": "ipython",
    "version": 3
   },
   "file_extension": ".py",
   "mimetype": "text/x-python",
   "name": "python",
   "nbconvert_exporter": "python",
   "pygments_lexer": "ipython3",
   "version": "3.12.7"
  }
 },
 "nbformat": 4,
 "nbformat_minor": 5
}

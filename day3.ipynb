{
 "cells": [
  {
   "cell_type": "code",
   "execution_count": 11,
   "id": "19b1e6cf-1adf-46e2-9f8d-e91bd494eb96",
   "metadata": {},
   "outputs": [
    {
     "name": "stdout",
     "output_type": "stream",
     "text": [
      "['apple', 'grapes', 'mango', 'orange']\n"
     ]
    }
   ],
   "source": [
    "fruits = [\"apple\", \"banana\", \"mango\"]\n",
    "fruits.append(\"orange\")\n",
    "fruits.remove(\"banana\")\n",
    "fruits.insert(1,\"grapes\")\n",
    "print(fruits)"
   ]
  },
  {
   "cell_type": "code",
   "execution_count": 4,
   "id": "ef78d27d-4b29-4651-a774-b3c2e6611df8",
   "metadata": {},
   "outputs": [],
   "source": [
    "fruits.remove(fruits[0])"
   ]
  },
  {
   "cell_type": "code",
   "execution_count": 5,
   "id": "16996457-8a59-421c-abb6-98a6145c6c7d",
   "metadata": {},
   "outputs": [
    {
     "name": "stdout",
     "output_type": "stream",
     "text": [
      "['grapes', 'mango', 'orange']\n"
     ]
    }
   ],
   "source": [
    "print(fruits)"
   ]
  },
  {
   "cell_type": "code",
   "execution_count": 6,
   "id": "9c2621e8-d703-4781-8ac8-1b3340e22ada",
   "metadata": {},
   "outputs": [
    {
     "name": "stdout",
     "output_type": "stream",
     "text": [
      "[4, 16, 36, 64, 100]\n"
     ]
    }
   ],
   "source": [
    "squares = [x**2 for x in range(1, 11)]\n",
    "even_squares = [x for x in squares if x % 2 == 0]\n",
    "print(even_squares)"
   ]
  },
  {
   "cell_type": "code",
   "execution_count": 7,
   "id": "72f8586c-5327-4fca-b66f-ff8282eaabef",
   "metadata": {},
   "outputs": [
    {
     "name": "stdout",
     "output_type": "stream",
     "text": [
      "Rajkiran\n"
     ]
    }
   ],
   "source": [
    "person = (\"Rajkiran\", 24, \"Nepal\")\n",
    "print(person[0])"
   ]
  },
  {
   "cell_type": "code",
   "execution_count": 12,
   "id": "eff47be6-2f71-4689-9475-1c1829bf0126",
   "metadata": {},
   "outputs": [
    {
     "name": "stdout",
     "output_type": "stream",
     "text": [
      "Rajkiran\n"
     ]
    }
   ],
   "source": [
    "student = {\"name\": \"Rajkiran\", \"age\": 24, \"major\": \"Computer Engineering\"}\n",
    "print(student[\"name\"])\n",
    "student[\"age\"] = 25\n",
    "student[\"university\"] = \"TU,IOE\""
   ]
  },
  {
   "cell_type": "code",
   "execution_count": 13,
   "id": "517e74bc-f4e5-405b-8357-fab230e5579d",
   "metadata": {},
   "outputs": [
    {
     "name": "stdout",
     "output_type": "stream",
     "text": [
      "TU,IOE\n"
     ]
    }
   ],
   "source": [
    "print(student[\"university\"])"
   ]
  },
  {
   "cell_type": "code",
   "execution_count": 14,
   "id": "fa90c202-96be-4b6b-9665-b919c553afbc",
   "metadata": {},
   "outputs": [
    {
     "name": "stdout",
     "output_type": "stream",
     "text": [
      "name: Rajkiran\n",
      "age: 25\n",
      "major: Computer Engineering\n",
      "university: TU,IOE\n"
     ]
    }
   ],
   "source": [
    "for key, value in student.items():\n",
    "    print(f\"{key}: {value}\")"
   ]
  },
  {
   "cell_type": "code",
   "execution_count": 15,
   "id": "f28176ff-8048-4d35-906f-f914f32dcee6",
   "metadata": {},
   "outputs": [
    {
     "name": "stdout",
     "output_type": "stream",
     "text": [
      "{1, 2, 3, 4}\n",
      "{1, 3, 4, 5}\n"
     ]
    }
   ],
   "source": [
    "nums= {1, 2, 3, 4}\n",
    "print(nums)\n",
    "\n",
    "nums.add(5)\n",
    "nums.remove(2)\n",
    "\n",
    "print(nums)"
   ]
  },
  {
   "cell_type": "code",
   "execution_count": 16,
   "id": "04b0cd32-9987-4373-8856-ba6d965ce924",
   "metadata": {},
   "outputs": [],
   "source": [
    "with open(\"example.txt\", \"w\") as file:\n",
    "    file.write(\"Hello from Day3!\\n\")\n",
    "    file.write(\"This is written using Pytob.\\n\")"
   ]
  },
  {
   "cell_type": "code",
   "execution_count": null,
   "id": "04b99b48-5797-427a-85d7-02d49a6308e1",
   "metadata": {},
   "outputs": [],
   "source": [
    "with open{\"example.txt\", \"r\"} as file:\n",
    "    content = file.read()\n",
    "    print(cont)"
   ]
  }
 ],
 "metadata": {
  "kernelspec": {
   "display_name": "Python 3 (ipykernel)",
   "language": "python",
   "name": "python3"
  },
  "language_info": {
   "codemirror_mode": {
    "name": "ipython",
    "version": 3
   },
   "file_extension": ".py",
   "mimetype": "text/x-python",
   "name": "python",
   "nbconvert_exporter": "python",
   "pygments_lexer": "ipython3",
   "version": "3.12.7"
  }
 },
 "nbformat": 4,
 "nbformat_minor": 5
}

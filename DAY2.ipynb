{
 "cells": [
  {
   "cell_type": "code",
   "execution_count": 2,
   "id": "1022503a-95fb-48b3-b00e-1626e78b678b",
   "metadata": {},
   "outputs": [
    {
     "name": "stdout",
     "output_type": "stream",
     "text": [
      "Grade: A\n"
     ]
    }
   ],
   "source": [
    "marks= 85\n",
    "\n",
    "if marks >=90:\n",
    "    print(\"Grade:A+\")\n",
    "elif marks >=80:\n",
    "    print(\"Grade: A\")\n",
    "else:\n",
    "    print(\"Grade B or below\")"
   ]
  },
  {
   "cell_type": "code",
   "execution_count": 3,
   "id": "3fffaf92-b731-45e8-b93c-d4552542f499",
   "metadata": {},
   "outputs": [
    {
     "name": "stdout",
     "output_type": "stream",
     "text": [
      "1\n",
      "2\n",
      "3\n",
      "4\n",
      "5\n"
     ]
    }
   ],
   "source": [
    "for i in range(1, 6):\n",
    "    print(i)"
   ]
  },
  {
   "cell_type": "code",
   "execution_count": 4,
   "id": "4f609f8c-5bd3-40a7-b436-9d899bc9565e",
   "metadata": {},
   "outputs": [
    {
     "name": "stdout",
     "output_type": "stream",
     "text": [
      "Count: 0\n",
      "Count: 1\n",
      "Count: 2\n",
      "Count: 3\n",
      "Count: 4\n"
     ]
    }
   ],
   "source": [
    "count= 0\n",
    "while count < 5:\n",
    "    print(\"Count:\", count)\n",
    "    count +=1\n",
    "    "
   ]
  },
  {
   "cell_type": "code",
   "execution_count": 5,
   "id": "cf8a2723-6ed5-4b8b-a41b-d4acdad10206",
   "metadata": {},
   "outputs": [
    {
     "name": "stdout",
     "output_type": "stream",
     "text": [
      "Welcome! Rajkiran\n",
      "Hello Rajkiran\n"
     ]
    }
   ],
   "source": [
    "def greet(name, message=\"Welcome!\"):\n",
    "    print(f\"{message} {name}\")\n",
    "\n",
    "greet(\"Rajkiran\")\n",
    "greet(\"Rajkiran\", \"Hello\")"
   ]
  },
  {
   "cell_type": "code",
   "execution_count": 8,
   "id": "69975e31-6f6c-4e05-9aed-f0c6a794b485",
   "metadata": {},
   "outputs": [
    {
     "name": "stdout",
     "output_type": "stream",
     "text": [
      "30\n",
      "name: Rajkiran\n",
      "age: 24\n"
     ]
    }
   ],
   "source": [
    "def add_numbers(*args):\n",
    "    return sum(args)\n",
    "\n",
    "print(add_numbers(5, 10, 15))\n",
    "\n",
    "def print_info(**kwargs):\n",
    "    for key, value in kwargs.items():\n",
    "        print(f\"{key}: {value}\")\n",
    "\n",
    "print_info(name=\"Rajkiran\", age=24)"
   ]
  },
  {
   "cell_type": "code",
   "execution_count": 7,
   "id": "29cafa8f-f64e-41a3-87b4-59c12377d8d7",
   "metadata": {},
   "outputs": [
    {
     "name": "stdout",
     "output_type": "stream",
     "text": [
      "[4, 16, 36, 64, 100]\n"
     ]
    }
   ],
   "source": [
    "squares = [x**2 for x in range(1, 11) if x % 2 == 0]\n",
    "print(squares)"
   ]
  },
  {
   "cell_type": "code",
   "execution_count": null,
   "id": "13e2d22c-5ddb-4385-9c03-38fd0ab70f18",
   "metadata": {},
   "outputs": [],
   "source": []
  }
 ],
 "metadata": {
  "kernelspec": {
   "display_name": "Python 3 (ipykernel)",
   "language": "python",
   "name": "python3"
  },
  "language_info": {
   "codemirror_mode": {
    "name": "ipython",
    "version": 3
   },
   "file_extension": ".py",
   "mimetype": "text/x-python",
   "name": "python",
   "nbconvert_exporter": "python",
   "pygments_lexer": "ipython3",
   "version": "3.12.7"
  }
 },
 "nbformat": 4,
 "nbformat_minor": 5
}
